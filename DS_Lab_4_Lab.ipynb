{
 "cells": [
  {
   "cell_type": "markdown",
   "id": "adf850c9",
   "metadata": {},
   "source": [
    "## Task 1 — Stack (array-backed)\n",
    "\n",
    "Implement a simple stack with `push`, `pop`, `peek`, `is_empty`, `size`."
   ]
  },
  {
   "cell_type": "code",
   "execution_count": 1,
   "id": "fa0d7c7e",
   "metadata": {},
   "outputs": [
    {
     "name": "stdout",
     "output_type": "stream",
     "text": [
      "Empty? True\n",
      "After pushes: [10, 20]\n",
      "Peek: 20\n",
      "Pop: 20\n",
      "Pop: 10\n",
      "Expected error on empty pop: Stack underflow\n"
     ]
    }
   ],
   "source": [
    "class Stack:\n",
    "    def __init__(self):\n",
    "        \"\"\"Array-backed stack; top is the list end.\"\"\"\n",
    "        self._data = []\n",
    "\n",
    "    def push(self, item):\n",
    "        self._data.append(item)\n",
    "\n",
    "    def pop(self):\n",
    "        if self.is_empty():\n",
    "            raise IndexError(\"Stack underflow\")\n",
    "        return self._data.pop()\n",
    "\n",
    "    def peek(self):\n",
    "        if self.is_empty():\n",
    "            raise IndexError(\"Empty stack\")\n",
    "        return self._data[-1]\n",
    "\n",
    "    def is_empty(self):\n",
    "        return len(self._data) == 0\n",
    "\n",
    "    def size(self):\n",
    "        return len(self._data)\n",
    "\n",
    "# Quick smoke tests\n",
    "if __name__ == \"__main__\":\n",
    "    s = Stack()\n",
    "    print(\"Empty?\", s.is_empty())\n",
    "    s.push(10); s.push(20)\n",
    "    print(\"After pushes:\", s._data)\n",
    "    print(\"Peek:\", s.peek())\n",
    "    print(\"Pop:\", s.pop())\n",
    "    print(\"Pop:\", s.pop())\n",
    "    try:\n",
    "        s.pop()\n",
    "    except IndexError as e:\n",
    "        print(\"Expected error on empty pop:\", e)"
   ]
  },
  {
   "cell_type": "markdown",
   "id": "145190de",
   "metadata": {},
   "source": [
    "## Task 2 — BracketChecker (balanced parentheses)\n",
    "\n",
    "Uses `Stack` to verify `() [] {}` balance."
   ]
  },
  {
   "cell_type": "code",
   "execution_count": 2,
   "id": "cdb6c4cb",
   "metadata": {},
   "outputs": [
    {
     "name": "stdout",
     "output_type": "stream",
     "text": [
      "{[()]} -> Balanced? True\n",
      "([)] -> Balanced? False\n",
      "(((()))) -> Balanced? True\n",
      ")( -> Balanced? False\n"
     ]
    }
   ],
   "source": [
    "class BracketChecker:\n",
    "    def __init__(self):\n",
    "        self._stack = Stack()\n",
    "\n",
    "    def _is_open(self, ch):\n",
    "        return ch in \"([{\"\n",
    "\n",
    "    def _matches(self, open_br, close_br):\n",
    "        pairs = {')': '(', ']': '[', '}': '{'}\n",
    "        return pairs.get(close_br) == open_br\n",
    "\n",
    "    def is_balanced(self, expr: str) -> bool:\n",
    "        self._stack = Stack()\n",
    "        for ch in expr:\n",
    "            if self._is_open(ch):\n",
    "                self._stack.push(ch)\n",
    "            elif ch in \")]}\":\n",
    "                if self._stack.is_empty():\n",
    "                    return False\n",
    "                top = self._stack.pop()\n",
    "                if not self._matches(top, ch):\n",
    "                    return False\n",
    "        return self._stack.is_empty()\n",
    "\n",
    "# Quick tests\n",
    "if __name__ == \"__main__\":\n",
    "    bc = BracketChecker()\n",
    "    tests = [\"{[()]}\", \"([)]\", \"(((())))\", \")(\"]\n",
    "    for t in tests:\n",
    "        print(f\"{t} -> Balanced? {bc.is_balanced(t)}\")"
   ]
  },
  {
   "cell_type": "markdown",
   "id": "86e925ec",
   "metadata": {},
   "source": [
    "## Task 3 — Infix → Postfix Converter\n",
    "\n",
    "Converts single-character-token infix strings to postfix (RPN). Supports ^, *, /, +, -."
   ]
  },
  {
   "cell_type": "code",
   "execution_count": 3,
   "id": "8733e645",
   "metadata": {},
   "outputs": [
    {
     "name": "stdout",
     "output_type": "stream",
     "text": [
      "A+B*C -> ABC*+\n",
      "(A+B)*C -> AB+C*\n",
      "A^B^C -> ABC^^\n",
      "A*(B+C*D) -> ABCD*+*\n"
     ]
    }
   ],
   "source": [
    "class InfixToPostfix:\n",
    "    def __init__(self):\n",
    "        self._prec = {'^': 3, '*': 2, '/': 2, '+': 1, '-': 1}\n",
    "        self._right_assoc = {'^'}\n",
    "        self._stack = Stack()\n",
    "\n",
    "    def _is_operand(self, ch):\n",
    "        return ch.isalnum()\n",
    "\n",
    "    def convert(self, infix: str) -> str:\n",
    "        out = []\n",
    "        self._stack = Stack()\n",
    "        for ch in infix.replace(\" \", \"\"):\n",
    "            if self._is_operand(ch):\n",
    "                out.append(ch)\n",
    "            elif ch == '(':\n",
    "                self._stack.push(ch)\n",
    "            elif ch == ')':\n",
    "                while not self._stack.is_empty() and self._stack.peek() != '(':\n",
    "                    out.append(self._stack.pop())\n",
    "                if self._stack.is_empty():\n",
    "                    raise ValueError(\"Mismatched parentheses\")\n",
    "                self._stack.pop()\n",
    "            else:\n",
    "                # operator\n",
    "                while (not self._stack.is_empty()\n",
    "                       and self._stack.peek() != '('\n",
    "                       and (self._prec[self._stack.peek()] > self._prec[ch]\n",
    "                            or (self._prec[self._stack.peek()] == self._prec[ch] and ch not in self._right_assoc))):\n",
    "                    out.append(self._stack.pop())\n",
    "                self._stack.push(ch)\n",
    "        while not self._stack.is_empty():\n",
    "            top = self._stack.pop()\n",
    "            if top == '(':\n",
    "                raise ValueError(\"Mismatched parentheses\")\n",
    "            out.append(top)\n",
    "        return \"\".join(out)\n",
    "\n",
    "# Quick tests\n",
    "if __name__ == \"__main__\":\n",
    "    conv = InfixToPostfix()\n",
    "    examples = [\"A+B*C\", \"(A+B)*C\", \"A^B^C\", \"A*(B+C*D)\"]\n",
    "    for e in examples:\n",
    "        print(f\"{e} -> {conv.convert(e)}\")"
   ]
  },
  {
   "cell_type": "markdown",
   "id": "78b91441",
   "metadata": {},
   "source": [
    "## Task 4 — Postfix Evaluator\n",
    "\n",
    "Simple evaluator for single-digit operands and operators + - * / ^."
   ]
  },
  {
   "cell_type": "code",
   "execution_count": 4,
   "id": "a5f47cdc",
   "metadata": {},
   "outputs": [
    {
     "name": "stdout",
     "output_type": "stream",
     "text": [
      "432+* -> 20.0\n",
      "23+5* -> 25.0\n",
      "82/3- -> 1.0\n"
     ]
    }
   ],
   "source": [
    "class PostfixEvaluator:\n",
    "    def __init__(self):\n",
    "        self._stack = Stack()\n",
    "\n",
    "    def _apply(self, op, b, a):\n",
    "        if op == '+': return a + b\n",
    "        if op == '-': return a - b\n",
    "        if op == '*': return a * b\n",
    "        if op == '/': return a / b\n",
    "        if op == '^': return a ** b\n",
    "        raise ValueError(f\"Unknown operator {op}\")\n",
    "\n",
    "    def evaluate(self, postfix: str) -> float:\n",
    "        self._stack = Stack()\n",
    "        for ch in postfix.replace(\" \", \"\"):\n",
    "            if ch.isdigit():\n",
    "                self._stack.push(float(ch))\n",
    "            elif ch in \"+-*/^\":\n",
    "                if self._stack.size() < 2:\n",
    "                    raise ValueError(\"Malformed expression: insufficient operands\")\n",
    "                b = self._stack.pop()\n",
    "                a = self._stack.pop()\n",
    "                self._stack.push(self._apply(ch, b, a))\n",
    "            else:\n",
    "                raise ValueError(f\"Bad token {ch}\")\n",
    "        if self._stack.size() != 1:\n",
    "            raise ValueError(\"Malformed expression: leftover values\")\n",
    "        return self._stack.pop()\n",
    "\n",
    "# Quick tests\n",
    "if __name__ == \"__main__\":\n",
    "    ev = PostfixEvaluator()\n",
    "    examples = [\"432+*\", \"23+5*\", \"82/3-\"]\n",
    "    for ex in examples:\n",
    "        print(f\"{ex} -> {ev.evaluate(ex)}\")"
   ]
  },
  {
   "cell_type": "markdown",
   "id": "48d658aa",
   "metadata": {},
   "source": [
    "## Task 5 — Linear Search\n",
    "\n",
    "Simple wrapper class with `find` returning first index or -1."
   ]
  },
  {
   "cell_type": "code",
   "execution_count": 5,
   "id": "ddc5c003",
   "metadata": {},
   "outputs": [
    {
     "name": "stdout",
     "output_type": "stream",
     "text": [
      "Index of 20: 2\n",
      "Index of 99: -1\n"
     ]
    }
   ],
   "source": [
    "class LinearSearch:\n",
    "    def __init__(self, data):\n",
    "        self.data = list(data)\n",
    "\n",
    "    def find(self, target):\n",
    "        for i, x in enumerate(self.data):\n",
    "            if x == target:\n",
    "                return i\n",
    "        return -1\n",
    "\n",
    "# Quick tests\n",
    "if __name__ == \"__main__\":\n",
    "    ls = LinearSearch([10, 30, 20, 50])\n",
    "    print(\"Index of 20:\", ls.find(20))\n",
    "    print(\"Index of 99:\", ls.find(99))"
   ]
  }
 ],
 "metadata": {
  "kernelspec": {
   "display_name": "Python [conda env:base] *",
   "language": "python",
   "name": "conda-base-py"
  },
  "language_info": {
   "codemirror_mode": {
    "name": "ipython",
    "version": 3
   },
   "file_extension": ".py",
   "mimetype": "text/x-python",
   "name": "python",
   "nbconvert_exporter": "python",
   "pygments_lexer": "ipython3",
   "version": "3.13.5"
  }
 },
 "nbformat": 4,
 "nbformat_minor": 5
}
